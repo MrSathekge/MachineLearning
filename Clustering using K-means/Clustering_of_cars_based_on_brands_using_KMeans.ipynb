{
 "cells": [
  {
   "cell_type": "markdown",
   "id": "4a4f6c50",
   "metadata": {},
   "source": [
    "# Clustering of cars based on brands\n",
    "#### using K-means"
   ]
  },
  {
   "cell_type": "code",
   "execution_count": 75,
   "id": "68408abf",
   "metadata": {},
   "outputs": [],
   "source": [
    "# importing packages\n",
    "import numpy as np\n",
    "import pandas as pd\n",
    "\n",
    "from sklearn import svm\n",
    "\n",
    "# visualize your data\n",
    "import matplotlib.pyplot as plt\n",
    "import seaborn as sns; sns.set(font_scale=1.2)    # here we also set the font scale\n",
    "\n",
    "# beacuse we're running it in browser setup, we need this special library \n",
    "# in here to display the graphics in line\n",
    "%matplotlib inline"
   ]
  },
  {
   "cell_type": "code",
   "execution_count": 76,
   "id": "0cef79d6",
   "metadata": {},
   "outputs": [
    {
     "data": {
      "text/html": [
       "<div>\n",
       "<style scoped>\n",
       "    .dataframe tbody tr th:only-of-type {\n",
       "        vertical-align: middle;\n",
       "    }\n",
       "\n",
       "    .dataframe tbody tr th {\n",
       "        vertical-align: top;\n",
       "    }\n",
       "\n",
       "    .dataframe thead th {\n",
       "        text-align: right;\n",
       "    }\n",
       "</style>\n",
       "<table border=\"1\" class=\"dataframe\">\n",
       "  <thead>\n",
       "    <tr style=\"text-align: right;\">\n",
       "      <th></th>\n",
       "      <th>mpg</th>\n",
       "      <th>cylinders</th>\n",
       "      <th>cubicinches</th>\n",
       "      <th>hp</th>\n",
       "      <th>weightlbs</th>\n",
       "      <th>time-to-60</th>\n",
       "      <th>year</th>\n",
       "      <th>brand</th>\n",
       "    </tr>\n",
       "  </thead>\n",
       "  <tbody>\n",
       "    <tr>\n",
       "      <th>0</th>\n",
       "      <td>14.0</td>\n",
       "      <td>8</td>\n",
       "      <td>350</td>\n",
       "      <td>165</td>\n",
       "      <td>4209</td>\n",
       "      <td>12</td>\n",
       "      <td>1972</td>\n",
       "      <td>US.</td>\n",
       "    </tr>\n",
       "    <tr>\n",
       "      <th>1</th>\n",
       "      <td>31.9</td>\n",
       "      <td>4</td>\n",
       "      <td>89</td>\n",
       "      <td>71</td>\n",
       "      <td>1925</td>\n",
       "      <td>14</td>\n",
       "      <td>1980</td>\n",
       "      <td>Europe.</td>\n",
       "    </tr>\n",
       "    <tr>\n",
       "      <th>2</th>\n",
       "      <td>17.0</td>\n",
       "      <td>8</td>\n",
       "      <td>302</td>\n",
       "      <td>140</td>\n",
       "      <td>3449</td>\n",
       "      <td>11</td>\n",
       "      <td>1971</td>\n",
       "      <td>US.</td>\n",
       "    </tr>\n",
       "    <tr>\n",
       "      <th>3</th>\n",
       "      <td>15.0</td>\n",
       "      <td>8</td>\n",
       "      <td>400</td>\n",
       "      <td>150</td>\n",
       "      <td>3761</td>\n",
       "      <td>10</td>\n",
       "      <td>1971</td>\n",
       "      <td>US.</td>\n",
       "    </tr>\n",
       "    <tr>\n",
       "      <th>4</th>\n",
       "      <td>30.5</td>\n",
       "      <td>4</td>\n",
       "      <td>98</td>\n",
       "      <td>63</td>\n",
       "      <td>2051</td>\n",
       "      <td>17</td>\n",
       "      <td>1978</td>\n",
       "      <td>US.</td>\n",
       "    </tr>\n",
       "  </tbody>\n",
       "</table>\n",
       "</div>"
      ],
      "text/plain": [
       "    mpg   cylinders  cubicinches   hp  weightlbs   time-to-60   year     brand\n",
       "0  14.0           8          350  165       4209           12   1972       US.\n",
       "1  31.9           4           89   71       1925           14   1980   Europe.\n",
       "2  17.0           8          302  140       3449           11   1971       US.\n",
       "3  15.0           8          400  150       3761           10   1971       US.\n",
       "4  30.5           4           98   63       2051           17   1978       US."
      ]
     },
     "execution_count": 76,
     "metadata": {},
     "output_type": "execute_result"
    }
   ],
   "source": [
    "# Importing our data\n",
    "# NB: I downloaded the dataset as an excel file, I then just exported it to csv,\n",
    "# then imported this csv here\n",
    "dataset = pd.read_csv('cars.csv')\n",
    "dataset.head()"
   ]
  },
  {
   "cell_type": "code",
   "execution_count": 77,
   "id": "4f4974ef",
   "metadata": {},
   "outputs": [
    {
     "data": {
      "text/html": [
       "<div>\n",
       "<style scoped>\n",
       "    .dataframe tbody tr th:only-of-type {\n",
       "        vertical-align: middle;\n",
       "    }\n",
       "\n",
       "    .dataframe tbody tr th {\n",
       "        vertical-align: top;\n",
       "    }\n",
       "\n",
       "    .dataframe thead th {\n",
       "        text-align: right;\n",
       "    }\n",
       "</style>\n",
       "<table border=\"1\" class=\"dataframe\">\n",
       "  <thead>\n",
       "    <tr style=\"text-align: right;\">\n",
       "      <th></th>\n",
       "      <th>mpg</th>\n",
       "      <th>cylinders</th>\n",
       "      <th>cubicinches</th>\n",
       "      <th>hp</th>\n",
       "      <th>weightlbs</th>\n",
       "      <th>time-to-60</th>\n",
       "      <th>year</th>\n",
       "    </tr>\n",
       "  </thead>\n",
       "  <tbody>\n",
       "    <tr>\n",
       "      <th>0</th>\n",
       "      <td>14.0</td>\n",
       "      <td>8</td>\n",
       "      <td>350.0</td>\n",
       "      <td>165</td>\n",
       "      <td>4209.0</td>\n",
       "      <td>12</td>\n",
       "      <td>1972</td>\n",
       "    </tr>\n",
       "    <tr>\n",
       "      <th>1</th>\n",
       "      <td>31.9</td>\n",
       "      <td>4</td>\n",
       "      <td>89.0</td>\n",
       "      <td>71</td>\n",
       "      <td>1925.0</td>\n",
       "      <td>14</td>\n",
       "      <td>1980</td>\n",
       "    </tr>\n",
       "    <tr>\n",
       "      <th>2</th>\n",
       "      <td>17.0</td>\n",
       "      <td>8</td>\n",
       "      <td>302.0</td>\n",
       "      <td>140</td>\n",
       "      <td>3449.0</td>\n",
       "      <td>11</td>\n",
       "      <td>1971</td>\n",
       "    </tr>\n",
       "    <tr>\n",
       "      <th>3</th>\n",
       "      <td>15.0</td>\n",
       "      <td>8</td>\n",
       "      <td>400.0</td>\n",
       "      <td>150</td>\n",
       "      <td>3761.0</td>\n",
       "      <td>10</td>\n",
       "      <td>1971</td>\n",
       "    </tr>\n",
       "    <tr>\n",
       "      <th>4</th>\n",
       "      <td>30.5</td>\n",
       "      <td>4</td>\n",
       "      <td>98.0</td>\n",
       "      <td>63</td>\n",
       "      <td>2051.0</td>\n",
       "      <td>17</td>\n",
       "      <td>1978</td>\n",
       "    </tr>\n",
       "  </tbody>\n",
       "</table>\n",
       "</div>"
      ],
      "text/plain": [
       "    mpg   cylinders   cubicinches   hp   weightlbs   time-to-60   year\n",
       "0  14.0           8         350.0  165      4209.0           12   1972\n",
       "1  31.9           4          89.0   71      1925.0           14   1980\n",
       "2  17.0           8         302.0  140      3449.0           11   1971\n",
       "3  15.0           8         400.0  150      3761.0           10   1971\n",
       "4  30.5           4          98.0   63      2051.0           17   1978"
      ]
     },
     "execution_count": 77,
     "metadata": {},
     "output_type": "execute_result"
    }
   ],
   "source": [
    "# Preparing the data\n",
    " # we want to remove the last column, because it has the actual models\n",
    "#X = dataset.iloc[:, :-1]   # take all the rows, and all columns except the last one\n",
    "#X.head()\n",
    "\n",
    "# Another method - without using iloc\n",
    "# print(dataset.columns)   This will show us all the columns. UNCOMMENT it to see\n",
    "#print(dataset.columns[:-1])    # here it shows us all the columns except the last, we get rid of the brand\n",
    "\n",
    "# So we now use the above line, below\n",
    "X_original = dataset[dataset.columns[:-1]]\n",
    "X = X_original.apply(pd.to_numeric, errors=\"coerce\")    # To convert strings to float, incase some are recorded as string. We dont want an error\n",
    "                                                    # note that we made a copy, this would cause a problem with \"BIG DATA\"\n",
    "X.head()"
   ]
  },
  {
   "cell_type": "code",
   "execution_count": 78,
   "id": "1a352d62",
   "metadata": {},
   "outputs": [
    {
     "name": "stdout",
     "output_type": "stream",
     "text": [
      "0\n",
      "0\n",
      "0\n",
      "0\n",
      "0\n",
      "0\n",
      "0\n"
     ]
    }
   ],
   "source": [
    "# Eliminating null values\n",
    "# automatically do this, to prevent noticing null values later, then going back to fix it\n",
    "\n",
    "for i in X.columns:\n",
    "    X[i] = X[i].fillna(int(X[i].mean()))   # fill in columns with mean, as int\n",
    "\n",
    "# Double check\n",
    "for i in X.columns:    # we want to test for missing data\n",
    "    print(X[i].isnull().sum())   # checks all rows, sums of null\n",
    "    \n",
    "# if zero, it means we have no null values in all the rows\n",
    "\n"
   ]
  },
  {
   "cell_type": "code",
   "execution_count": 79,
   "id": "566990b9",
   "metadata": {},
   "outputs": [
    {
     "name": "stderr",
     "output_type": "stream",
     "text": [
      "C:\\Users\\caron\\anaconda3\\lib\\site-packages\\sklearn\\cluster\\_kmeans.py:1036: UserWarning: KMeans is known to have a memory leak on Windows with MKL, when there are less chunks than available threads. You can avoid it by setting the environment variable OMP_NUM_THREADS=2.\n",
      "  warnings.warn(\n"
     ]
    },
    {
     "data": {
      "image/png": "[encoded data removed]",
      "text/plain": [
       "<Figure size 432x288 with 1 Axes>"
      ]
     },
     "metadata": {
      "needs_background": "light"
     },
     "output_type": "display_data"
    }
   ],
   "source": [
    "# Using the elbow method to find the optimal number of clusters\n",
    "from sklearn.cluster import KMeans\n",
    "\n",
    "wcss = []   # empty array\n",
    "\n",
    "for i in range(1,12):    # range from 1, 12 because from 0,11 gives an error coz of the zero\n",
    "    # n_clusters=1 how increasing no. of clusters changes our answer, maximum iteration 300,\n",
    "    kmeans = KMeans(n_clusters=i, init='k-means++', max_iter=300, n_init=10, random_state=0)  \n",
    "    \n",
    "    # Good practise is to run it on sample data and test it there, imagine doing this process 11 times on big data,\n",
    "    # iterating 11TB of data 11 times, and the k-means itself iterating multiple times , that would be a long process\n",
    "    \n",
    "    kmeans.fit(X)  # We take our k means and fit it, we fit our model\n",
    "    wcss.append(kmeans.inertia_)    # The value we're looking for is inertia, it will give us the value that we need\n",
    "    \n",
    "plt.plot(range(1,12), wcss)   \n",
    "plt.title('The Elbow Method')\n",
    "plt.xlabel('Number of clusters')\n",
    "plt.ylabel('WCSS')\n",
    "plt.show()"
   ]
  },
  {
   "cell_type": "code",
   "execution_count": 80,
   "id": "ebe8fcb4",
   "metadata": {},
   "outputs": [],
   "source": [
    "# Our elbow joint is at 2, we can try 3\n",
    "\n",
    "# Applying k-means to the cars dataset\n",
    "# we now set n_clusters to 3\n",
    "kmeans = KMeans(n_clusters=3, init='k-means++', max_iter=300, n_init=10, random_state=0)\n",
    "\n",
    "# we create our own variable for our answers, and we want to fit and predict the k means on this\n",
    "y_kmeans = kmeans.fit_predict(X)\n",
    "X = X.to_numpy()   # we're converting it to a row and column setup, before we plot\n",
    "                   # columns = None, so it's just going to be a matrix of data\n",
    "    "
   ]
  },
  {
   "cell_type": "code",
   "execution_count": 82,
   "id": "2eb0561c",
   "metadata": {},
   "outputs": [
    {
     "name": "stdout",
     "output_type": "stream",
     "text": [
      "[2 1 0 2 1 2 2 2 0 1 1 1 2 0 0 2 1 0 1 1 1 1 0 2 1 1 1 2 0 1 1 0 1 0 1 0 1\n",
      " 1 2 0 2 2 0 0 0 1 2 1 1 0 2 0 0 1 2 2 0 1 1 2 0 1 0 1 2 0 1 1 1 2 0 1 1 1\n",
      " 1 0 0 1 1 1 2 2 0 1 1 1 0 0 1 1 1 1 2 0 1 2 2 0 2 2 2 2 1 1 1 1 1 1 1 0 1\n",
      " 0 2 1 1 2 0 0 1 2 1 1 2 0 1 1 2 1 1 1 1 1 2 0 2 2 1 0 0 0 1 1 1 1 0 0 0 0\n",
      " 0 0 1 1 2 0 1 0 1 1 1 0 0 2 0 0 1 0 0 1 0 1 1 0 0 1 1 1 2 0 0 1 0 1 2 0 1\n",
      " 0 0 2 2 2 1 1 2 2 2 1 1 1 1 1 1 1 0 0 1 2 1 0 2 0 0 0 1 1 0 1 1 2 1 2 0 0\n",
      " 2 2 2 1 2 1 1 0 0 1 1 2 0 1 2 0 1 1 2 0 2 1 2 0 2 1 1 1 1 1 0 2 0 1 2 1 0\n",
      " 0 0]\n"
     ]
    }
   ],
   "source": [
    "print(y_kmeans)    # Just to see what we're going to plot"
   ]
  },
  {
   "cell_type": "code",
   "execution_count": 85,
   "id": "0d29d898",
   "metadata": {},
   "outputs": [
    {
     "name": "stdout",
     "output_type": "stream",
     "text": [
      "[[1.400e+01 8.000e+00 3.500e+02 ... 4.209e+03 1.200e+01 1.972e+03]\n",
      " [3.190e+01 4.000e+00 8.900e+01 ... 1.925e+03 1.400e+01 1.980e+03]\n",
      " [1.700e+01 8.000e+00 3.020e+02 ... 3.449e+03 1.100e+01 1.971e+03]\n",
      " ...\n",
      " [2.200e+01 6.000e+00 2.320e+02 ... 2.835e+03 1.500e+01 1.983e+03]\n",
      " [1.800e+01 6.000e+00 2.320e+02 ... 3.288e+03 1.600e+01 1.972e+03]\n",
      " [2.200e+01 6.000e+00 2.500e+02 ... 3.353e+03 1.500e+01 1.977e+03]]\n"
     ]
    }
   ],
   "source": [
    "print(X)   # to see the matrix\n",
    "# it's harder to plot all different values in an array, so we'll only look at positions 0 and 1, columns 1 and 2"
   ]
  },
  {
   "cell_type": "code",
   "execution_count": 87,
   "id": "fa07f8e1",
   "metadata": {},
   "outputs": [
    {
     "data": {
      "image/png": "[encoded data removed]",
      "text/plain": [
       "<Figure size 432x288 with 1 Axes>"
      ]
     },
     "metadata": {
      "needs_background": "light"
     },
     "output_type": "display_data"
    }
   ],
   "source": [
    "plt.scatter(X[y_kmeans == 0, 0], X[y_kmeans == 0, 1], s=100, c='red', label='Toyota')    \n",
    "# X values where y_kmeans = 0(1st cluster), and value 0 for x axis\n",
    "# and same thing, but 1 as the 2nd column\n",
    "# s=100 is size of the dots\n",
    "\n",
    "plt.scatter(X[y_kmeans == 1, 0], X[y_kmeans == 1, 1], s=100, c='blue', label='Nissan')\n",
    "plt.scatter(X[y_kmeans == 2, 0], X[y_kmeans == 2, 1], s=100, c='green', label='Honda')    \n",
    "plt.scatter(kmeans.cluster_centers_[:,0],kmeans.cluster_centers_[:,1], s=300, c='yellow', label='Centroids')   \n",
    "              # all of them in  1st no, 0, and all in 2nd number    1\n",
    "plt.title('Clusters of car make')\n",
    "plt.legend()    # it will automatically bring them in, since we already labelled them\n",
    "plt.show()\n",
    "\n"
   ]
  },
  {
   "cell_type": "code",
   "execution_count": 88,
   "id": "1a14197f",
   "metadata": {},
   "outputs": [],
   "source": [
    "# We see clusters of Honda in Green, Nissan in Blue, Toyota in Red, and the centroids to separate them"
   ]
  },
  {
   "cell_type": "code",
   "execution_count": 89,
   "id": "9072f6ea",
   "metadata": {},
   "outputs": [],
   "source": [
    "# Example, maybe doing loans, you might want to know why is this group not defaulting on their loans\n",
    "# and why is the last group not defaulting on their loans\n",
    "# and why is the middle group 50% defaulting on their loans\n",
    "\n",
    "# Then you find ways to manipulate the data to pull out the answers you want"
   ]
  },
  {
   "cell_type": "markdown",
   "id": "20d2f6ce",
   "metadata": {},
   "source": [
    "# The End!"
   ]
  },
  {
   "cell_type": "code",
   "execution_count": null,
   "id": "d33ac88b",
   "metadata": {},
   "outputs": [],
   "source": []
  }
 ],
 "metadata": {
  "kernelspec": {
   "display_name": "Python 3 (ipykernel)",
   "language": "python",
   "name": "python3"
  },
  "language_info": {
   "codemirror_mode": {
    "name": "ipython",
    "version": 3
   },
   "file_extension": ".py",
   "mimetype": "text/x-python",
   "name": "python",
   "nbconvert_exporter": "python",
   "pygments_lexer": "ipython3",
   "version": "3.9.12"
  }
 },
 "nbformat": 4,
 "nbformat_minor": 5
}
